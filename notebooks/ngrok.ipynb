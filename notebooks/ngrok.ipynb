{
 "cells": [
  {
   "cell_type": "code",
   "execution_count": 2,
   "id": "77aa1401-0476-4a45-ad34-010bdac88e62",
   "metadata": {},
   "outputs": [],
   "source": [
    "import os.path\n",
    "import sys, json\n",
    "import requests\n",
    "import subprocess\n",
    "import numpy as np\n",
    "import pandas as pd\n",
    "import plotly.express as px\n",
    "from requests.exceptions import RequestException\n",
    "from requests.adapters import HTTPAdapter\n",
    "from urllib3.util import Retry\n",
    "from collections import namedtuple"
   ]
  },
  {
   "cell_type": "code",
   "execution_count": 3,
   "id": "21b41a75-6681-4aeb-a48e-d6bc4f54f1b3",
   "metadata": {},
   "outputs": [],
   "source": [
    "def download_ngrok():\n",
    "    if not os.path.isfile('ngrok'):\n",
    "        !wget https://bin.equinox.io/c/4VmDzA7iaHb/ngrok-stable-linux-amd64.zip\n",
    "        !unzip -o ngrok-stable-linux-amd64.zip\n",
    "    pass\n",
    "download_ngrok()"
   ]
  },
  {
   "cell_type": "code",
   "execution_count": 4,
   "id": "c48da3cc-8a3c-4fd6-86f1-85d65ca9be7f",
   "metadata": {},
   "outputs": [],
   "source": [
    "Response = namedtuple('Response', ['url', 'error'])\n",
    "def get_tunnel():\n",
    "    try:\n",
    "        Tunnel = subprocess.Popen(['./ngrok','http','8050'])\n",
    "        session = requests.Session()\n",
    "        retry = Retry(connect=3, backoff_factor=0.5)\n",
    "        adapter = HTTPAdapter(max_retries=retry)\n",
    "        session.mount('http://', adapter)\n",
    "        res = session.get('http://localhost:4040/api/tunnels')\n",
    "        res.raise_for_status()\n",
    "        tunnel_str = res.text\n",
    "        tunnel_cfg = json.loads(tunnel_str)\n",
    "        tunnel_url = tunnel_cfg['tunnels'][0]['public_url']\n",
    "        return Response(url=tunnel_url, error=None)\n",
    "    except RequestException as e:\n",
    "        return Response(url=None, error=str(e))"
   ]
  },
  {
   "cell_type": "code",
   "execution_count": null,
   "id": "5591d389-233e-4579-ba9c-50d9b766f24e",
   "metadata": {},
   "outputs": [],
   "source": [
    "tunnel = get_tunnel()\n",
    "print(tunnel)\n",
    "!python3 my_dash_app.py"
   ]
  },
  {
   "cell_type": "code",
   "execution_count": null,
   "id": "15ab0e78-6fc8-4bdc-9392-3e1ee19779de",
   "metadata": {},
   "outputs": [],
   "source": []
  }
 ],
 "metadata": {
  "kernelspec": {
   "display_name": "Python 3 (ipykernel)",
   "language": "python",
   "name": "python3"
  },
  "language_info": {
   "codemirror_mode": {
    "name": "ipython",
    "version": 3
   },
   "file_extension": ".py",
   "mimetype": "text/x-python",
   "name": "python",
   "nbconvert_exporter": "python",
   "pygments_lexer": "ipython3",
   "version": "3.8.13"
  }
 },
 "nbformat": 4,
 "nbformat_minor": 5
}
