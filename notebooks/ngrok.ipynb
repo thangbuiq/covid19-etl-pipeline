{
 "cells": [
  {
   "cell_type": "code",
   "execution_count": 2,
   "id": "77aa1401-0476-4a45-ad34-010bdac88e62",
   "metadata": {},
   "outputs": [],
   "source": [
    "import os.path\n",
    "import sys, json\n",
    "import requests\n",
    "import subprocess\n",
    "import numpy as np\n",
    "import pandas as pd\n",
    "import plotly.express as px\n",
    "from requests.exceptions import RequestException\n",
    "from requests.adapters import HTTPAdapter\n",
    "from urllib3.util import Retry\n",
    "from collections import namedtuple"
   ]
  },
  {
   "cell_type": "code",
   "execution_count": 3,
   "id": "21b41a75-6681-4aeb-a48e-d6bc4f54f1b3",
   "metadata": {},
   "outputs": [],
   "source": [
    "def download_ngrok():\n",
    "    if not os.path.isfile('ngrok'):\n",
    "        !wget https://bin.equinox.io/c/4VmDzA7iaHb/ngrok-stable-linux-amd64.zip\n",
    "        !unzip -o ngrok-stable-linux-amd64.zip\n",
    "    pass\n",
    "download_ngrok()"
   ]
  },
  {
   "cell_type": "code",
   "execution_count": 4,
   "id": "c48da3cc-8a3c-4fd6-86f1-85d65ca9be7f",
   "metadata": {},
   "outputs": [],
   "source": [
    "Response = namedtuple('Response', ['url', 'error'])\n",
    "def get_tunnel():\n",
    "    try:\n",
    "        Tunnel = subprocess.Popen(['./ngrok','http','8050'])\n",
    "        session = requests.Session()\n",
    "        retry = Retry(connect=3, backoff_factor=0.5)\n",
    "        adapter = HTTPAdapter(max_retries=retry)\n",
    "        session.mount('http://', adapter)\n",
    "        res = session.get('http://localhost:4040/api/tunnels')\n",
    "        res.raise_for_status()\n",
    "        tunnel_str = res.text\n",
    "        tunnel_cfg = json.loads(tunnel_str)\n",
    "        tunnel_url = tunnel_cfg['tunnels'][0]['public_url']\n",
    "        return Response(url=tunnel_url, error=None)\n",
    "    except RequestException as e:\n",
    "        return Response(url=None, error=str(e))"
   ]
  },
  {
   "cell_type": "code",
   "execution_count": null,
   "id": "5591d389-233e-4579-ba9c-50d9b766f24e",
   "metadata": {},
   "outputs": [],
   "source": [
    "tunnel = get_tunnel()\n",
    "print(tunnel)\n",
    "!python3 my_dash_app.py"
   ]
  },
  {
   "cell_type": "code",
   "execution_count": 1,
   "id": "15ab0e78-6fc8-4bdc-9392-3e1ee19779de",
   "metadata": {},
   "outputs": [],
   "source": [
    "import pandas as pd"
   ]
  },
  {
   "cell_type": "code",
   "execution_count": 2,
   "id": "123ed3f7-7034-4387-9fb6-c4478e97a994",
   "metadata": {},
   "outputs": [],
   "source": [
    "covid19_continent_stats = pd.read_csv('./df2.csv')"
   ]
  },
  {
   "cell_type": "code",
   "execution_count": 10,
   "id": "d87b1e23-c8ee-401d-9672-06f0fca5f4f2",
   "metadata": {},
   "outputs": [
    {
     "data": {
      "text/html": [
       "<style type=\"text/css\">\n",
       "#T_6597c_row0_col1 {\n",
       "  background-color: #e83429;\n",
       "  color: #f1f1f1;\n",
       "}\n",
       "#T_6597c_row0_col2, #T_6597c_row4_col3, #T_6597c_row5_col1, #T_6597c_row5_col3 {\n",
       "  background-color: #67000d;\n",
       "  color: #f1f1f1;\n",
       "}\n",
       "#T_6597c_row0_col3 {\n",
       "  background-color: #f34935;\n",
       "  color: #f1f1f1;\n",
       "}\n",
       "#T_6597c_row1_col1 {\n",
       "  background-color: #fdc6b0;\n",
       "  color: #000000;\n",
       "}\n",
       "#T_6597c_row1_col2 {\n",
       "  background-color: #fee3d6;\n",
       "  color: #000000;\n",
       "}\n",
       "#T_6597c_row1_col3 {\n",
       "  background-color: #fdd1be;\n",
       "  color: #000000;\n",
       "}\n",
       "#T_6597c_row2_col1, #T_6597c_row2_col2, #T_6597c_row2_col3 {\n",
       "  background-color: #fff5f0;\n",
       "  color: #000000;\n",
       "}\n",
       "#T_6597c_row3_col1 {\n",
       "  background-color: #fdcbb6;\n",
       "  color: #000000;\n",
       "}\n",
       "#T_6597c_row3_col2 {\n",
       "  background-color: #fc9070;\n",
       "  color: #000000;\n",
       "}\n",
       "#T_6597c_row3_col3 {\n",
       "  background-color: #fed8c7;\n",
       "  color: #000000;\n",
       "}\n",
       "#T_6597c_row4_col1 {\n",
       "  background-color: #69000d;\n",
       "  color: #f1f1f1;\n",
       "}\n",
       "#T_6597c_row4_col2 {\n",
       "  background-color: #a60f15;\n",
       "  color: #f1f1f1;\n",
       "}\n",
       "#T_6597c_row5_col2 {\n",
       "  background-color: #f6583e;\n",
       "  color: #f1f1f1;\n",
       "}\n",
       "</style>\n",
       "<table id=\"T_6597c\">\n",
       "  <thead>\n",
       "    <tr>\n",
       "      <th class=\"blank level0\" >&nbsp;</th>\n",
       "      <th id=\"T_6597c_level0_col0\" class=\"col_heading level0 col0\" >Continent</th>\n",
       "      <th id=\"T_6597c_level0_col1\" class=\"col_heading level0 col1\" >TotalCases</th>\n",
       "      <th id=\"T_6597c_level0_col2\" class=\"col_heading level0 col2\" >TotalDeaths</th>\n",
       "      <th id=\"T_6597c_level0_col3\" class=\"col_heading level0 col3\" >TotalRecovered</th>\n",
       "    </tr>\n",
       "  </thead>\n",
       "  <tbody>\n",
       "    <tr>\n",
       "      <th id=\"T_6597c_level0_row0\" class=\"row_heading level0 row0\" >0</th>\n",
       "      <td id=\"T_6597c_row0_col0\" class=\"data row0 col0\" >Europe</td>\n",
       "      <td id=\"T_6597c_row0_col1\" class=\"data row0 col1\" >2482951</td>\n",
       "      <td id=\"T_6597c_row0_col2\" class=\"data row0 col2\" >155775</td>\n",
       "      <td id=\"T_6597c_row0_col3\" class=\"data row0 col3\" >1605640</td>\n",
       "    </tr>\n",
       "    <tr>\n",
       "      <th id=\"T_6597c_level0_row1\" class=\"row_heading level0 row1\" >1</th>\n",
       "      <td id=\"T_6597c_row1_col0\" class=\"data row1 col0\" >Africa</td>\n",
       "      <td id=\"T_6597c_row1_col1\" class=\"data row1 col1\" >828239</td>\n",
       "      <td id=\"T_6597c_row1_col2\" class=\"data row1 col2\" >17759</td>\n",
       "      <td id=\"T_6597c_row1_col3\" class=\"data row1 col3\" >487793</td>\n",
       "    </tr>\n",
       "    <tr>\n",
       "      <th id=\"T_6597c_level0_row2\" class=\"row_heading level0 row2\" >2</th>\n",
       "      <td id=\"T_6597c_row2_col0\" class=\"data row2 col0\" >Australia/Oceania</td>\n",
       "      <td id=\"T_6597c_row2_col1\" class=\"data row2 col1\" >16949</td>\n",
       "      <td id=\"T_6597c_row2_col2\" class=\"data row2 col2\" >189</td>\n",
       "      <td id=\"T_6597c_row2_col3\" class=\"data row2 col3\" >10854</td>\n",
       "    </tr>\n",
       "    <tr>\n",
       "      <th id=\"T_6597c_level0_row3\" class=\"row_heading level0 row3\" >3</th>\n",
       "      <td id=\"T_6597c_row3_col0\" class=\"data row3 col0\" >North America</td>\n",
       "      <td id=\"T_6597c_row3_col1\" class=\"data row3 col1\" >768505</td>\n",
       "      <td id=\"T_6597c_row3_col2\" class=\"data row3 col2\" >59215</td>\n",
       "      <td id=\"T_6597c_row3_col3\" class=\"data row3 col3\" >428613</td>\n",
       "    </tr>\n",
       "    <tr>\n",
       "      <th id=\"T_6597c_level0_row4\" class=\"row_heading level0 row4\" >4</th>\n",
       "      <td id=\"T_6597c_row4_col0\" class=\"data row4 col0\" >South America</td>\n",
       "      <td id=\"T_6597c_row4_col1\" class=\"data row4 col1\" >3780484</td>\n",
       "      <td id=\"T_6597c_row4_col2\" class=\"data row4 col2\" >135506</td>\n",
       "      <td id=\"T_6597c_row4_col3\" class=\"data row4 col3\" >2714173</td>\n",
       "    </tr>\n",
       "    <tr>\n",
       "      <th id=\"T_6597c_level0_row5\" class=\"row_heading level0 row5\" >5</th>\n",
       "      <td id=\"T_6597c_row5_col0\" class=\"data row5 col0\" >Asia</td>\n",
       "      <td id=\"T_6597c_row5_col1\" class=\"data row5 col1\" >3799878</td>\n",
       "      <td id=\"T_6597c_row5_col2\" class=\"data row5 col2\" >85740</td>\n",
       "      <td id=\"T_6597c_row5_col3\" class=\"data row5 col3\" >2722251</td>\n",
       "    </tr>\n",
       "  </tbody>\n",
       "</table>\n"
      ],
      "text/plain": [
       "<pandas.io.formats.style.Styler at 0x7fb40f079000>"
      ]
     },
     "execution_count": 10,
     "metadata": {},
     "output_type": "execute_result"
    }
   ],
   "source": [
    "covid19_continent_stats.style.background_gradient(cmap=\"Reds\")"
   ]
  },
  {
   "cell_type": "code",
   "execution_count": null,
   "id": "53685a23-9054-4398-931f-eb101d0bb5b4",
   "metadata": {},
   "outputs": [],
   "source": []
  }
 ],
 "metadata": {
  "kernelspec": {
   "display_name": "Python 3 (ipykernel)",
   "language": "python",
   "name": "python3"
  },
  "language_info": {
   "codemirror_mode": {
    "name": "ipython",
    "version": 3
   },
   "file_extension": ".py",
   "mimetype": "text/x-python",
   "name": "python",
   "nbconvert_exporter": "python",
   "pygments_lexer": "ipython3",
   "version": "3.10.9"
  }
 },
 "nbformat": 4,
 "nbformat_minor": 5
}
