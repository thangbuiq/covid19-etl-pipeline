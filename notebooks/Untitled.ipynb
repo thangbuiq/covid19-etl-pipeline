{
 "cells": [
  {
   "cell_type": "code",
   "execution_count": 6,
   "id": "40090c1b-eca6-418a-a02e-7377df1cf181",
   "metadata": {},
   "outputs": [],
   "source": [
    "from minio import Minio"
   ]
  },
  {
   "cell_type": "code",
   "execution_count": 13,
   "id": "d5ea7e5b-43f7-49d7-b1cc-c2ee161082c9",
   "metadata": {},
   "outputs": [],
   "source": [
    "client = Minio(\n",
    "    endpoint=\"minio:9000\",\n",
    "    access_key='minio',\n",
    "    secret_key='minio123',\n",
    "    secure=False,\n",
    ")"
   ]
  },
  {
   "cell_type": "code",
   "execution_count": 14,
   "id": "9b8cf7bd-11cf-4caf-b9b4-5210a5061b46",
   "metadata": {},
   "outputs": [
    {
     "data": {
      "text/plain": [
       "[Bucket('warehouse')]"
      ]
     },
     "execution_count": 14,
     "metadata": {},
     "output_type": "execute_result"
    }
   ],
   "source": [
    "client.list_buckets()"
   ]
  },
  {
   "cell_type": "code",
   "execution_count": 20,
   "id": "d2503b34-63be-4516-b9e0-18916b07cb2f",
   "metadata": {},
   "outputs": [],
   "source": [
    "import os\n",
    "from datetime import datetime\n",
    "from pyspark import SparkContext, HiveContext\n",
    "from pyspark.sql import SparkSession, SQLContext\n",
    "import pyspark.sql.functions as sf"
   ]
  },
  {
   "cell_type": "code",
   "execution_count": 21,
   "id": "dc6934b0-03b8-4c79-b8cf-852f536804fd",
   "metadata": {},
   "outputs": [],
   "source": [
    "spark = (SparkSession.builder.appName(\"covid19-benchmark-{}\".format(datetime.today()))\n",
    "                .master(\"spark://172.25.0.3:7077\")\n",
    "                .getOrCreate())"
   ]
  },
  {
   "cell_type": "code",
   "execution_count": 22,
   "id": "b2c85490-e75b-42f7-9a3a-4c21e2fa0ea2",
   "metadata": {},
   "outputs": [],
   "source": [
    "import pandas as pd"
   ]
  },
  {
   "cell_type": "code",
   "execution_count": 23,
   "id": "019a8d60-c123-41df-9102-5b7a088a5576",
   "metadata": {},
   "outputs": [],
   "source": [
    "data = pd.DataFrame({'State': ['Alaska', 'California',\n",
    "                               'Florida', 'Washington'],\n",
    "                      \n",
    "                     'city': [\"Anchorage\", \"Los Angeles\",\n",
    "                              \"Miami\", \"Bellevue\"]})"
   ]
  },
  {
   "cell_type": "code",
   "execution_count": 24,
   "id": "b53ef49f-1946-4a18-9671-9f88ce555fcf",
   "metadata": {},
   "outputs": [
    {
     "data": {
      "text/html": [
       "<div>\n",
       "<style scoped>\n",
       "    .dataframe tbody tr th:only-of-type {\n",
       "        vertical-align: middle;\n",
       "    }\n",
       "\n",
       "    .dataframe tbody tr th {\n",
       "        vertical-align: top;\n",
       "    }\n",
       "\n",
       "    .dataframe thead th {\n",
       "        text-align: right;\n",
       "    }\n",
       "</style>\n",
       "<table border=\"1\" class=\"dataframe\">\n",
       "  <thead>\n",
       "    <tr style=\"text-align: right;\">\n",
       "      <th></th>\n",
       "      <th>State</th>\n",
       "      <th>city</th>\n",
       "    </tr>\n",
       "  </thead>\n",
       "  <tbody>\n",
       "    <tr>\n",
       "      <th>0</th>\n",
       "      <td>Alaska</td>\n",
       "      <td>Anchorage</td>\n",
       "    </tr>\n",
       "    <tr>\n",
       "      <th>1</th>\n",
       "      <td>California</td>\n",
       "      <td>Los Angeles</td>\n",
       "    </tr>\n",
       "    <tr>\n",
       "      <th>2</th>\n",
       "      <td>Florida</td>\n",
       "      <td>Miami</td>\n",
       "    </tr>\n",
       "    <tr>\n",
       "      <th>3</th>\n",
       "      <td>Washington</td>\n",
       "      <td>Bellevue</td>\n",
       "    </tr>\n",
       "  </tbody>\n",
       "</table>\n",
       "</div>"
      ],
      "text/plain": [
       "        State         city\n",
       "0      Alaska    Anchorage\n",
       "1  California  Los Angeles\n",
       "2     Florida        Miami\n",
       "3  Washington     Bellevue"
      ]
     },
     "execution_count": 24,
     "metadata": {},
     "output_type": "execute_result"
    }
   ],
   "source": [
    "data"
   ]
  },
  {
   "cell_type": "code",
   "execution_count": 25,
   "id": "5626e097-008b-4c36-beb6-89da6f1ae8a3",
   "metadata": {},
   "outputs": [
    {
     "name": "stderr",
     "output_type": "stream",
     "text": [
      "/usr/local/spark/python/pyspark/sql/pandas/conversion.py:604: FutureWarning: iteritems is deprecated and will be removed in a future version. Use .items instead.\n",
      "  [(c, t) for (_, c), t in zip(pdf_slice.iteritems(), arrow_types)]\n"
     ]
    }
   ],
   "source": [
    "spark.conf.set(\"spark.sql.execution.arrow.enabled\", \"true\")\n",
    " \n",
    "# Creating the DataFrame\n",
    "sprak_arrow = spark.createDataFrame(data)"
   ]
  },
  {
   "cell_type": "code",
   "execution_count": 26,
   "id": "8b2c0283-2dfe-478c-936c-506a25dce61a",
   "metadata": {},
   "outputs": [
    {
     "data": {
      "text/plain": [
       "pandas.core.frame.DataFrame"
      ]
     },
     "execution_count": 26,
     "metadata": {},
     "output_type": "execute_result"
    }
   ],
   "source": [
    "type(sprak_arrow.toPandas())"
   ]
  },
  {
   "cell_type": "code",
   "execution_count": 27,
   "id": "151ed1bf-2bdd-4c3b-81db-a19c658c0445",
   "metadata": {},
   "outputs": [],
   "source": [
    "sprak_arrow.createOrReplaceTempView(\"sprak_arrow\")"
   ]
  },
  {
   "cell_type": "code",
   "execution_count": 28,
   "id": "445087fc-814a-4f3c-8d50-7fab82a8c0a3",
   "metadata": {},
   "outputs": [
    {
     "data": {
      "text/html": [
       "<div>\n",
       "<style scoped>\n",
       "    .dataframe tbody tr th:only-of-type {\n",
       "        vertical-align: middle;\n",
       "    }\n",
       "\n",
       "    .dataframe tbody tr th {\n",
       "        vertical-align: top;\n",
       "    }\n",
       "\n",
       "    .dataframe thead th {\n",
       "        text-align: right;\n",
       "    }\n",
       "</style>\n",
       "<table border=\"1\" class=\"dataframe\">\n",
       "  <thead>\n",
       "    <tr style=\"text-align: right;\">\n",
       "      <th></th>\n",
       "      <th>namespace</th>\n",
       "      <th>tableName</th>\n",
       "      <th>isTemporary</th>\n",
       "    </tr>\n",
       "  </thead>\n",
       "  <tbody>\n",
       "    <tr>\n",
       "      <th>0</th>\n",
       "      <td></td>\n",
       "      <td>sprak_arrow</td>\n",
       "      <td>False</td>\n",
       "    </tr>\n",
       "  </tbody>\n",
       "</table>\n",
       "</div>"
      ],
      "text/plain": [
       "  namespace    tableName  isTemporary\n",
       "0            sprak_arrow        False"
      ]
     },
     "execution_count": 28,
     "metadata": {},
     "output_type": "execute_result"
    }
   ],
   "source": [
    "spark.sql(\"SHOW TABLES\").toPandas()"
   ]
  },
  {
   "cell_type": "code",
   "execution_count": 29,
   "id": "45fcc1a3-a7ff-4b33-b3c2-b8da690da3a3",
   "metadata": {},
   "outputs": [],
   "source": [
    "sql_stm1 = \"\"\"\n",
    "-- 1\n",
    "SELECT \n",
    "    city\n",
    "FROM\n",
    "    sprak_arrow\n",
    "\"\"\"\n",
    "sparkDF = spark.sql(sql_stm1)"
   ]
  },
  {
   "cell_type": "code",
   "execution_count": 30,
   "id": "3ae9d6e4-1490-4958-b072-689cfc130b05",
   "metadata": {},
   "outputs": [
    {
     "name": "stdout",
     "output_type": "stream",
     "text": [
      "+-----------+\n",
      "|       city|\n",
      "+-----------+\n",
      "|  Anchorage|\n",
      "|Los Angeles|\n",
      "|      Miami|\n",
      "|   Bellevue|\n",
      "+-----------+\n",
      "\n"
     ]
    }
   ],
   "source": [
    "sparkDF.show()"
   ]
  },
  {
   "cell_type": "code",
   "execution_count": null,
   "id": "fa4e103f-3bbc-4c57-9f95-7a4dcbf6adba",
   "metadata": {},
   "outputs": [],
   "source": []
  }
 ],
 "metadata": {
  "kernelspec": {
   "display_name": "Python 3 (ipykernel)",
   "language": "python",
   "name": "python3"
  },
  "language_info": {
   "codemirror_mode": {
    "name": "ipython",
    "version": 3
   },
   "file_extension": ".py",
   "mimetype": "text/x-python",
   "name": "python",
   "nbconvert_exporter": "python",
   "pygments_lexer": "ipython3",
   "version": "3.8.13"
  }
 },
 "nbformat": 4,
 "nbformat_minor": 5
}
