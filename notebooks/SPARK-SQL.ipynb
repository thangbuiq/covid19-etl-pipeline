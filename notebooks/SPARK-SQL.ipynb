{
 "cells": [
  {
   "cell_type": "markdown",
   "id": "f83d8daf-eeec-485e-ad5b-80955fa9e00a",
   "metadata": {},
   "source": [
    "# Init SparkContext"
   ]
  },
  {
   "cell_type": "code",
   "execution_count": 1,
   "id": "121a3dd8-b5db-4d30-9e3a-7366f6397990",
   "metadata": {},
   "outputs": [],
   "source": [
    "import os\n",
    "from datetime import datetime\n",
    "from pyspark import SparkContext, HiveContext\n",
    "from pyspark.sql import SparkSession, SQLContext\n",
    "import pyspark.sql.functions as sf"
   ]
  },
  {
   "cell_type": "code",
   "execution_count": 4,
   "id": "550af3fe",
   "metadata": {},
   "outputs": [],
   "source": [
    "spark = (\n",
    "    SparkSession.builder.appName(\"covid19-benchmark-{}\".format(datetime.today()))\n",
    "                .master(\"spark://spark-master:7077\")\n",
    "                .getOrCreate()\n",
    ")\n",
    "spark.conf.set(\"spark.sql.execution.arrow.pyspark.enabled\", \"true\")\n",
    "spark.conf.set(\"spark.sql.execution.arrow.pyspark.fallback.enabled\",\"true\")"
   ]
  },
  {
   "cell_type": "code",
   "execution_count": 4,
   "id": "22c72b9d-6f0d-4df2-a68b-617fd1845336",
   "metadata": {},
   "outputs": [
    {
     "name": "stderr",
     "output_type": "stream",
     "text": [
      "/usr/local/spark/python/pyspark/sql/context.py:112: FutureWarning: Deprecated in 3.0.0. Use SparkSession.builder.getOrCreate() instead.\n",
      "  warnings.warn(\n"
     ]
    }
   ],
   "source": [
    "sqlContext = SQLContext(spark)"
   ]
  },
  {
   "cell_type": "code",
   "execution_count": 7,
   "id": "5cd65285-44f9-4641-be73-862d177befc0",
   "metadata": {},
   "outputs": [
    {
     "name": "stdout",
     "output_type": "stream",
     "text": [
      "+---------+\n",
      "|namespace|\n",
      "+---------+\n",
      "|  default|\n",
      "+---------+\n",
      "\n"
     ]
    }
   ],
   "source": [
    "spark.sql(\"SHOW databases\").show()"
   ]
  },
  {
   "cell_type": "code",
   "execution_count": 8,
   "id": "223388c9-ebe7-49c1-b153-c82c6b0dfe74",
   "metadata": {},
   "outputs": [
    {
     "name": "stdout",
     "output_type": "stream",
     "text": [
      "+---------+---------+-----------+\n",
      "|namespace|tableName|isTemporary|\n",
      "+---------+---------+-----------+\n",
      "+---------+---------+-----------+\n",
      "\n"
     ]
    }
   ],
   "source": [
    "spark.sql(\"SHOW tables\").show()"
   ]
  },
  {
   "cell_type": "markdown",
   "id": "5bfb2f1f-dd06-42e6-922a-c5933fff1437",
   "metadata": {},
   "source": [
    "# Load and create Catalog table"
   ]
  },
  {
   "cell_type": "code",
   "execution_count": 9,
   "id": "381e0278-01a1-4676-9df3-14f1993b0626",
   "metadata": {},
   "outputs": [],
   "source": [
    "spark_covid19_cases_position = spark.read.parquet(\"s3a://warehouse/bronze/medical/covid19_cases_position.pq\")\n",
    "spark_covid19_cases_position.createOrReplaceTempView(\"covid19_cases_position\")"
   ]
  },
  {
   "cell_type": "code",
   "execution_count": 10,
   "id": "95786bab-abf6-4c2e-a273-4575cf4647f1",
   "metadata": {},
   "outputs": [],
   "source": [
    "spark_covid19_country_wise = spark.read.parquet(\"s3a://warehouse/bronze/medical/covid19_country_wise.pq\")\n",
    "spark_covid19_country_wise.createOrReplaceTempView(\"covid19_country_wise\")"
   ]
  },
  {
   "cell_type": "code",
   "execution_count": 11,
   "id": "df0445cd-d8f6-460e-89db-7147bb413a23",
   "metadata": {},
   "outputs": [],
   "source": [
    "spark_covid19_time_series = spark.read.parquet(\"s3a://warehouse/bronze/medical/covid19_time_series.pq\")\n",
    "spark_covid19_time_series.createOrReplaceTempView(\"covid19_time_series\")"
   ]
  },
  {
   "cell_type": "code",
   "execution_count": 12,
   "id": "5c3561f8-5ee6-4df9-8103-9d3638971cde",
   "metadata": {},
   "outputs": [],
   "source": [
    "spark_covid19_worldometer = spark.read.parquet(\"s3a://warehouse/bronze/medical/covid19_worldometer.pq\")\n",
    "spark_covid19_worldometer.createOrReplaceTempView(\"covid19_worldometer\")"
   ]
  },
  {
   "cell_type": "code",
   "execution_count": 13,
   "id": "9b305dcb-cb9c-45ff-955f-b008b1bac0b6",
   "metadata": {},
   "outputs": [
    {
     "name": "stdout",
     "output_type": "stream",
     "text": [
      "+---------+--------------------+-----------+\n",
      "|namespace|           tableName|isTemporary|\n",
      "+---------+--------------------+-----------+\n",
      "|         |covid19_cases_pos...|      false|\n",
      "|         |covid19_country_wise|      false|\n",
      "|         | covid19_time_series|      false|\n",
      "|         | covid19_worldometer|      false|\n",
      "+---------+--------------------+-----------+\n",
      "\n"
     ]
    }
   ],
   "source": [
    "spark.sql(\"SHOW TABLES\").show()"
   ]
  },
  {
   "cell_type": "markdown",
   "id": "bb488d32-bcd8-4fd5-b0be-b6ebe4f1fddf",
   "metadata": {},
   "source": [
    "# Benchmark"
   ]
  },
  {
   "cell_type": "markdown",
   "id": "60efdf8f-7cda-406e-b73b-7e0a1a8dc6ad",
   "metadata": {},
   "source": [
    "## 1. covid19_daily_stats"
   ]
  },
  {
   "cell_type": "code",
   "execution_count": 12,
   "id": "8bdcef70-2652-4193-a3d5-26e4b0fb4e9a",
   "metadata": {},
   "outputs": [],
   "source": [
    "sql_stm1 = \"\"\"\n",
    "-- 1\n",
    "SELECT \n",
    "    t.`date`, \n",
    "    t.country_region, \n",
    "    t.confirmed, \n",
    "    t.deaths, \n",
    "    t.recovered\n",
    "FROM \n",
    "    covid19_time_series AS t\n",
    "JOIN \n",
    "    covid19_cases_position AS c \n",
    "ON \n",
    "    t.country_region = c.country_region\n",
    "JOIN \n",
    "    covid19_country_wise AS w \n",
    "ON \n",
    "    t.country_region = w.country_region\n",
    "WHERE \n",
    "    t.confirmed > 0 OR \n",
    "    t.deaths > 0 OR \n",
    "    t.recovered > 0;\n",
    "\"\"\""
   ]
  },
  {
   "cell_type": "code",
   "execution_count": 7,
   "id": "a3db701e-b8d7-4123-81f5-1e4bbb583857",
   "metadata": {},
   "outputs": [
    {
     "name": "stdout",
     "output_type": "stream",
     "text": [
      "1.07 s ± 252 ms per loop (mean ± std. dev. of 4 runs, 1 loop each)\n"
     ]
    }
   ],
   "source": [
    "%%timeit -r 4\n",
    "spark.sql(sql_stm1).toPandas()"
   ]
  },
  {
   "cell_type": "code",
   "execution_count": 13,
   "id": "18cc50f5-3fcc-48cc-9dab-d24dd61d995e",
   "metadata": {},
   "outputs": [
    {
     "name": "stdout",
     "output_type": "stream",
     "text": [
      "+----------+--------------+---------+------+---------+\n",
      "|      date|country_region|confirmed|deaths|recovered|\n",
      "+----------+--------------+---------+------+---------+\n",
      "|2020-01-22|         China|      548|    17|       28|\n",
      "|2020-01-22|         China|      548|    17|       28|\n",
      "|2020-01-22|         China|      548|    17|       28|\n",
      "|2020-01-22|         China|      548|    17|       28|\n",
      "|2020-01-22|         China|      548|    17|       28|\n",
      "|2020-01-22|         China|      548|    17|       28|\n",
      "|2020-01-22|         China|      548|    17|       28|\n",
      "|2020-01-22|         China|      548|    17|       28|\n",
      "|2020-01-22|         China|      548|    17|       28|\n",
      "|2020-01-22|         China|      548|    17|       28|\n",
      "|2020-01-22|         China|      548|    17|       28|\n",
      "|2020-01-22|         China|      548|    17|       28|\n",
      "|2020-01-22|         China|      548|    17|       28|\n",
      "|2020-01-22|         China|      548|    17|       28|\n",
      "|2020-01-22|         China|      548|    17|       28|\n",
      "|2020-01-22|         China|      548|    17|       28|\n",
      "|2020-01-22|         China|      548|    17|       28|\n",
      "|2020-01-22|         China|      548|    17|       28|\n",
      "|2020-01-22|         China|      548|    17|       28|\n",
      "|2020-01-22|         China|      548|    17|       28|\n",
      "+----------+--------------+---------+------+---------+\n",
      "only showing top 20 rows\n",
      "\n"
     ]
    }
   ],
   "source": [
    "covid19_daily_stats = spark.sql(sql_stm1)\n",
    "covid19_daily_stats.show()"
   ]
  },
  {
   "cell_type": "code",
   "execution_count": 20,
   "id": "c96e5b7c-bbc6-40a2-857f-f5dacee66295",
   "metadata": {},
   "outputs": [],
   "source": [
    "covid19_daily_stats.repartition(1).write.mode(\"overwrite\").parquet(\"s3a://warehouse/silver/ecom/covid19_daily_stats.pq\")"
   ]
  },
  {
   "cell_type": "markdown",
   "id": "ba21b2b8-ab71-48b8-980e-121218f94ab8",
   "metadata": {
    "tags": []
   },
   "source": [
    "## 2. covid19_continent_stats"
   ]
  },
  {
   "cell_type": "code",
   "execution_count": 6,
   "id": "c4962d07-643a-4ed0-a670-aa9228965585",
   "metadata": {},
   "outputs": [],
   "source": [
    "sql_stm2 = \"\"\"\n",
    "-- 1\n",
    "SELECT \n",
    "    w.continent AS Continent, \n",
    "    SUM(cw.confirmed) AS TotalCases, \n",
    "    SUM(cw.deaths) AS TotalDeaths, \n",
    "    SUM(cw.recovered) AS TotalRecovered \n",
    "FROM \n",
    "    covid19_worldometer AS w \n",
    "JOIN \n",
    "    covid19_cases_position AS c \n",
    "ON \n",
    "    w.country_region = c.country_region \n",
    "JOIN \n",
    "    covid19_country_wise AS cw \n",
    "ON \n",
    "    w.country_region = cw.country_region \n",
    "GROUP BY \n",
    "    w.continent;\n",
    "\"\"\""
   ]
  },
  {
   "cell_type": "code",
   "execution_count": 12,
   "id": "392ae0f9-9705-4768-b965-070188203a40",
   "metadata": {},
   "outputs": [
    {
     "name": "stdout",
     "output_type": "stream",
     "text": [
      "735 ms ± 240 ms per loop (mean ± std. dev. of 4 runs, 1 loop each)\n"
     ]
    }
   ],
   "source": [
    "%%timeit -r 4\n",
    "spark.sql(sql_stm2).toPandas()"
   ]
  },
  {
   "cell_type": "code",
   "execution_count": 7,
   "id": "3645b422-b2b3-461a-b644-98b199f92784",
   "metadata": {},
   "outputs": [
    {
     "name": "stdout",
     "output_type": "stream",
     "text": [
      "+-----------------+----------+-----------+--------------+\n",
      "|        Continent|TotalCases|TotalDeaths|TotalRecovered|\n",
      "+-----------------+----------+-----------+--------------+\n",
      "|           Europe|   4860471|     476988|       2430932|\n",
      "|           Africa|    828239|      17759|        487793|\n",
      "|Australia/Oceania|    124070|       1358|         76031|\n",
      "|    North America|   2049543|     157599|        428613|\n",
      "|    South America|   3780484|     135506|       2714173|\n",
      "|             Asia|   3799878|      85740|       2722251|\n",
      "+-----------------+----------+-----------+--------------+\n",
      "\n"
     ]
    }
   ],
   "source": [
    "covid19_continent_stats = spark.sql(sql_stm2)\n",
    "covid19_continent_stats.show()"
   ]
  },
  {
   "cell_type": "code",
   "execution_count": 21,
   "id": "e2a5fcc1-0213-4e55-80d3-b610ceeb23c8",
   "metadata": {},
   "outputs": [],
   "source": [
    "covid19_continent_stats.repartition(1).write.mode(\"overwrite\").parquet(\"s3a://warehouse/silver/ecom/covid19_continent_stats.pq\")"
   ]
  },
  {
   "cell_type": "code",
   "execution_count": 8,
   "id": "281ef727-e656-4f41-b3d2-968bf6da9478",
   "metadata": {},
   "outputs": [
    {
     "data": {
      "text/plain": [
       "pyspark.sql.dataframe.DataFrame"
      ]
     },
     "execution_count": 8,
     "metadata": {},
     "output_type": "execute_result"
    }
   ],
   "source": [
    "type(covid19_continent_stats)"
   ]
  },
  {
   "cell_type": "markdown",
   "id": "a081b7cf-3302-4165-bb23-4e4281831d0b",
   "metadata": {},
   "source": [
    "## TEST"
   ]
  },
  {
   "cell_type": "code",
   "execution_count": 15,
   "id": "a48fe895-f741-4165-83f2-6f883b22dc29",
   "metadata": {},
   "outputs": [
    {
     "name": "stdout",
     "output_type": "stream",
     "text": [
      "+-------------------+-----------------+----------+---------+------+---------+--------------------+\n",
      "|     country_region|        continent|population|confirmed|deaths|recovered|          who_region|\n",
      "+-------------------+-----------------+----------+---------+------+---------+--------------------+\n",
      "|        Afghanistan|             Asia| 3.90094E7|    36263|  1269|    25198|Eastern Mediterra...|\n",
      "|            Albania|           Europe| 2877470.0|     4880|   144|     2745|              Europe|\n",
      "|            Algeria|           Africa| 4.39261E7|    27973|  1163|    18837|              Africa|\n",
      "|            Andorra|           Europe|   77278.0|      907|    52|      803|              Europe|\n",
      "|             Angola|           Africa| 3.29563E7|      950|    41|      242|              Africa|\n",
      "|Antigua and Barbuda|    North America|   98010.0|       86|     3|       65|            Americas|\n",
      "|          Argentina|    South America| 4.52369E7|   167416|  3059|    72575|            Americas|\n",
      "|            Armenia|             Asia| 2963810.0|    37390|   711|    26665|              Europe|\n",
      "|          Australia|Australia/Oceania| 2.55289E7|    15303|   167|     9311|     Western Pacific|\n",
      "|            Austria|           Europe| 9011580.0|    20558|   713|    18246|              Europe|\n",
      "|         Azerbaijan|             Asia| 1.01482E7|    30446|   423|    23242|              Europe|\n",
      "|            Bahamas|    North America|  393616.0|      382|    11|       91|            Americas|\n",
      "|            Bahrain|             Asia| 1706670.0|    39482|   141|    36110|Eastern Mediterra...|\n",
      "|         Bangladesh|             Asia| 1.64851E8|   226225|  2965|   125683|     South-East Asia|\n",
      "|           Barbados|    North America|  287411.0|      110|     7|       94|            Americas|\n",
      "|            Belarus|           Europe| 9449000.0|    67251|   538|    60492|              Europe|\n",
      "|            Belgium|           Europe| 1.15947E7|    66428|  9822|    17452|              Europe|\n",
      "|             Belize|    North America|  398312.0|       48|     2|       26|            Americas|\n",
      "|              Benin|           Africa|  1.2152E7|     1770|    35|     1036|              Africa|\n",
      "|             Bhutan|             Asia|  772443.0|       99|     0|       86|     South-East Asia|\n",
      "+-------------------+-----------------+----------+---------+------+---------+--------------------+\n",
      "only showing top 20 rows\n",
      "\n"
     ]
    }
   ],
   "source": [
    "sql_stm = \"\"\"\n",
    "    SELECT \n",
    "        cw.country_region,\n",
    "        w.continent,\n",
    "        w.population,\n",
    "        cw.confirmed,\n",
    "        cw.deaths,\n",
    "        cw.recovered,\n",
    "        cw.who_region\n",
    "    FROM \n",
    "        covid19_country_wise AS cw \n",
    "    JOIN covid19_worldometer AS w\n",
    "    ON w.country_region = cw.country_region\n",
    "    WHERE \n",
    "        cw.confirmed > 0 OR\n",
    "        cw.deaths > 0 OR\n",
    "        cw.recovered > 0;\n",
    "\"\"\"\n",
    "sparkDF = spark.sql(sql_stm)\n",
    "sparkDF.show()"
   ]
  },
  {
   "cell_type": "code",
   "execution_count": null,
   "id": "01bc968d-12c0-49e2-8ba5-02e71e035989",
   "metadata": {},
   "outputs": [],
   "source": []
  }
 ],
 "metadata": {
  "kernelspec": {
   "display_name": "Python 3 (ipykernel)",
   "language": "python",
   "name": "python3"
  },
  "language_info": {
   "codemirror_mode": {
    "name": "ipython",
    "version": 3
   },
   "file_extension": ".py",
   "mimetype": "text/x-python",
   "name": "python",
   "nbconvert_exporter": "python",
   "pygments_lexer": "ipython3",
   "version": "3.8.13"
  }
 },
 "nbformat": 4,
 "nbformat_minor": 5
}
