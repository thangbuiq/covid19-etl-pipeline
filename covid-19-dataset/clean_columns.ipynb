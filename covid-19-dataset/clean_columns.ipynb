{
 "cells": [
  {
   "cell_type": "code",
   "execution_count": 1,
   "id": "2f6d2fdf-afc2-445e-80a2-eb263065a66d",
   "metadata": {},
   "outputs": [],
   "source": [
    "import pandas as pd"
   ]
  },
  {
   "cell_type": "code",
   "execution_count": 2,
   "id": "1f9c499b-7e77-4187-86f5-14b6678be864",
   "metadata": {},
   "outputs": [],
   "source": [
    "def clean_columns_name(df: pd.DataFrame) -> pd.DataFrame:\n",
    "    cleaned_df = df\n",
    "    cleaned_df.columns = (cleaned_df.columns.map(str.lower)\n",
    "                            .map(lambda x : x.replace('.', '_')\n",
    "                                             .replace(' % ', '_rate_')\n",
    "                                             .replace(' ', '_')\n",
    "                                             .replace('/', '_')))\n",
    "    return cleaned_df"
   ]
  },
  {
   "cell_type": "code",
   "execution_count": 4,
   "id": "b8f6b0b1-5569-496d-8611-4205570b45bc",
   "metadata": {},
   "outputs": [],
   "source": [
    "try:\n",
    "    covid19_cases_info = clean_columns_name(pd.read_csv('covid19_cases_info.csv'))\n",
    "    covid19_time_series = clean_columns_name(pd.read_csv('covid19_time_series.csv'))\n",
    "    covid19_worldometer = clean_columns_name(pd.read_csv('covid19_worldometer_data.csv'))\n",
    "    covid19_country_wise = clean_columns_name(pd.read_csv('covid19_country_wise.csv'))\n",
    "except:\n",
    "    raise NotImplementedError"
   ]
  },
  {
   "cell_type": "code",
   "execution_count": 6,
   "id": "c204346c-a32c-44ac-b3ed-8412898f6973",
   "metadata": {},
   "outputs": [],
   "source": [
    "covid19_cases_info.to_csv('./covid19-clean/covid19_cases_info.csv', index = False)\n",
    "covid19_time_series.to_csv('./covid19-clean/covid19_time_series.csv', index = False)\n",
    "covid19_worldometer.to_csv('./covid19-clean/covid19_worldometer.csv', index = False)\n",
    "covid19_country_wise.to_csv('./covid19-clean/covid19_country_wise.csv', index = False)"
   ]
  }
 ],
 "metadata": {
  "kernelspec": {
   "display_name": "Python 3 (ipykernel)",
   "language": "python",
   "name": "python3"
  },
  "language_info": {
   "codemirror_mode": {
    "name": "ipython",
    "version": 3
   },
   "file_extension": ".py",
   "mimetype": "text/x-python",
   "name": "python",
   "nbconvert_exporter": "python",
   "pygments_lexer": "ipython3",
   "version": "3.10.9"
  }
 },
 "nbformat": 4,
 "nbformat_minor": 5
}
